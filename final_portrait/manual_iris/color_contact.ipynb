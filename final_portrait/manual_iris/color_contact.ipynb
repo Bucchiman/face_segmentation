{
 "cells": [
  {
   "cell_type": "code",
   "execution_count": 1,
   "metadata": {},
   "outputs": [],
   "source": [
    "import cv2\n",
    "import numpy as np\n",
    "import matplotlib.pyplot as plt\n",
    "%matplotlib inline"
   ]
  },
  {
   "cell_type": "code",
   "execution_count": 2,
   "metadata": {},
   "outputs": [
    {
     "name": "stdout",
     "output_type": "stream",
     "text": [
      "(1024, 1024)\n"
     ]
    }
   ],
   "source": [
    "orig_img = cv2.cvtColor(cv2.imread(\"./original_datas/IMG_0272_0155_resize.jpeg\"), cv2.COLOR_BGR2RGB)\n",
    "mask_img = cv2.imread(\"./iris_mask/eyes_lips_iris_mask.jpg\", 0)\n",
    "print(mask_img.shape)"
   ]
  },
  {
   "cell_type": "code",
   "execution_count": 3,
   "metadata": {},
   "outputs": [
    {
     "data": {
      "text/plain": [
       "<matplotlib.image.AxesImage at 0x12f0c3510>"
      ]
     },
     "execution_count": 3,
     "metadata": {},
     "output_type": "execute_result"
    },
    {
     "data": {
      "image/png": "[encoded data removed]",
      "text/plain": [
       "<Figure size 432x288 with 1 Axes>"
      ]
     },
     "metadata": {
      "needs_background": "light"
     },
     "output_type": "display_data"
    }
   ],
   "source": [
    "plt.imshow(mask_img, cmap=\"gray\")"
   ]
  },
  {
   "cell_type": "code",
   "execution_count": 4,
   "metadata": {},
   "outputs": [],
   "source": [
    "table = {'l_eye': 1, 'r_eye': 2, 'u_lip': 3, 'l_lip': 4, 'mouth': 5, 'l_iris': 6, 'r_iris': 7}"
   ]
  },
  {
   "cell_type": "code",
   "execution_count": 5,
   "metadata": {},
   "outputs": [
    {
     "name": "stderr",
     "output_type": "stream",
     "text": [
      "/Users/iwabuchi/.pyenv/versions/py3.7.3_torch/lib/python3.7/site-packages/ipykernel_launcher.py:9: RuntimeWarning: overflow encountered in ubyte_scalars\n",
      "  if __name__ == '__main__':\n"
     ]
    }
   ],
   "source": [
    "color = np.zeros_like(orig_img)\n",
    "for i in range(mask_img.shape[0]):\n",
    "    for j in range(mask_img.shape[1]):\n",
    "        if mask_img[i, j] == table['l_eye']:\n",
    "            color[i, j] = 255\n",
    "        elif mask_img[i, j] == table['r_eye']:\n",
    "            color[i, j] = 255\n",
    "        elif mask_img[i, j] == table['l_iris'] or mask_img[i, j] == table['r_iris']:\n",
    "            if (orig_img[i, j, 0]+orig_img[i, j, 1]+orig_img[i, j, 2])/3 > 100:\n",
    "                color[i, j] = 255\n",
    "            else:\n",
    "                color[i, j, 0] = 0\n",
    "                color[i, j, 1] = 70\n",
    "                color[i, j, 2] = 255\n",
    "        elif mask_img[i, j] == table['u_lip'] or mask_img[i, j] == table['l_lip']:\n",
    "            color[i, j, 0] = 255\n",
    "            color[i, j, 1] = 79\n",
    "            color[i, j, 2] = 140\n",
    "        else:\n",
    "            pass"
   ]
  },
  {
   "cell_type": "code",
   "execution_count": 6,
   "metadata": {},
   "outputs": [
    {
     "data": {
      "text/plain": [
       "<matplotlib.image.AxesImage at 0x130aa38d0>"
      ]
     },
     "execution_count": 6,
     "metadata": {},
     "output_type": "execute_result"
    },
    {
     "data": {
      "image/png": "[encoded data removed]",
      "text/plain": [
       "<Figure size 432x288 with 1 Axes>"
      ]
     },
     "metadata": {
      "needs_background": "light"
     },
     "output_type": "display_data"
    }
   ],
   "source": [
    "cv2.imwrite(\"final_view.jpeg\", cv2.cvtColor(color.astype(np.uint8), cv2.COLOR_RGB2BGR))\n",
    "plt.imshow(color.astype(np.uint8))"
   ]
  },
  {
   "cell_type": "code",
   "execution_count": null,
   "metadata": {},
   "outputs": [],
   "source": []
  },
  {
   "cell_type": "code",
   "execution_count": null,
   "metadata": {},
   "outputs": [],
   "source": []
  }
 ],
 "metadata": {
  "kernelspec": {
   "display_name": "Python 3",
   "language": "python",
   "name": "python3"
  },
  "language_info": {
   "codemirror_mode": {
    "name": "ipython",
    "version": 3
   },
   "file_extension": ".py",
   "mimetype": "text/x-python",
   "name": "python",
   "nbconvert_exporter": "python",
   "pygments_lexer": "ipython3",
   "version": "3.8.3"
  }
 },
 "nbformat": 4,
 "nbformat_minor": 5
}

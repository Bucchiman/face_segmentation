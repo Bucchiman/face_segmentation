{
 "cells": [
  {
   "cell_type": "code",
   "execution_count": 3,
   "id": "193976c4-4ea7-421c-ba65-36332e69fdb6",
   "metadata": {},
   "outputs": [],
   "source": [
    "import cv2\n",
    "import numpy as np\n",
    "import matplotlib.pyplot as plt\n",
    "%matplotlib inline"
   ]
  },
  {
   "cell_type": "code",
   "execution_count": 5,
   "id": "691d86f1-0b31-4d82-9367-23c1dd86209f",
   "metadata": {},
   "outputs": [
    {
     "name": "stdout",
     "output_type": "stream",
     "text": [
      "(1024, 1024)\n"
     ]
    }
   ],
   "source": [
    "orig_img = cv2.cvtColor(cv2.imread(\"./original_datas/IMG_0272_0155_resize.jpeg\"), cv2.COLOR_BGR2RGB)\n",
    "mask_img = cv2.imread(\"./iris_mask/eyes_lips_iris_mask.jpg\", 0)\n",
    "print(mask_img.shape)"
   ]
  },
  {
   "cell_type": "code",
   "execution_count": 6,
   "id": "4abf9117-abbc-4d52-b37d-74b35f815e7a",
   "metadata": {},
   "outputs": [
    {
     "data": {
      "text/plain": [
       "<matplotlib.image.AxesImage at 0x129aecc50>"
      ]
     },
     "execution_count": 6,
     "metadata": {},
     "output_type": "execute_result"
    },
    {
     "data": {
      "image/png": "[encoded data removed]",
      "text/plain": [
       "<Figure size 432x288 with 1 Axes>"
      ]
     },
     "metadata": {
      "needs_background": "light"
     },
     "output_type": "display_data"
    }
   ],
   "source": [
    "plt.imshow(mask_img, cmap=\"gray\")"
   ]
  },
  {
   "cell_type": "code",
   "execution_count": 90,
   "id": "493db399-689a-4657-9651-d0f5a586cdeb",
   "metadata": {},
   "outputs": [],
   "source": [
    "table = {'l_eye': 4, 'r_eye': 5, 'l_iris': 6, 'r_iris': 7, 'u_lip': 12, 'l_lip': 13}"
   ]
  },
  {
   "cell_type": "code",
   "execution_count": 91,
   "id": "a7f5b9f5-ae07-4323-ac7c-7dbcb3d9c1ff",
   "metadata": {},
   "outputs": [
    {
     "name": "stderr",
     "output_type": "stream",
     "text": [
      "/Users/iwabuchi/.pyenv/versions/py3.7.3_torch/lib/python3.7/site-packages/ipykernel_launcher.py:9: RuntimeWarning: overflow encountered in ubyte_scalars\n",
      "  if __name__ == '__main__':\n"
     ]
    }
   ],
   "source": [
    "color = np.zeros_like(orig_img)\n",
    "for i in range(mask_img.shape[0]):\n",
    "    for j in range(mask_img.shape[1]):\n",
    "        if mask_img[i, j] == table['l_eye']:\n",
    "            color[i, j] = 255\n",
    "        elif mask_img[i, j] == table['r_eye']:\n",
    "            color[i, j] = 255\n",
    "        elif mask_img[i, j] == table['l_iris'] or mask_img[i, j] == table['r_iris']:\n",
    "            if (orig_img[i, j, 0]+orig_img[i, j, 1]+orig_img[i, j, 2])/3 > 100:\n",
    "                color[i, j] = 255\n",
    "            else:\n",
    "                color[i, j, 0] = 0\n",
    "                color[i, j, 1] = 70\n",
    "                color[i, j, 2] = 255\n",
    "        elif mask_img[i, j] == table['u_lip'] or mask_img[i, j] == table['l_lip']:\n",
    "            color[i, j, 0] = 255\n",
    "            color[i, j, 1] = 79\n",
    "            color[i, j, 2] = 140\n",
    "        else:\n",
    "            pass"
   ]
  },
  {
   "cell_type": "code",
   "execution_count": 92,
   "id": "f60cd5f4-1f23-4b87-a4b5-c9b1869957b7",
   "metadata": {},
   "outputs": [
    {
     "data": {
      "text/plain": [
       "<matplotlib.image.AxesImage at 0x12ccc7e90>"
      ]
     },
     "execution_count": 92,
     "metadata": {},
     "output_type": "execute_result"
    },
    {
     "data": {
      "image/png": "[encoded data removed]",
      "text/plain": [
       "<Figure size 432x288 with 1 Axes>"
      ]
     },
     "metadata": {
      "needs_background": "light"
     },
     "output_type": "display_data"
    }
   ],
   "source": [
    "cv2.imwrite(\"final_view.jpeg\", cv2.cvtColor(color.astype(np.uint8), cv2.COLOR_RGB2BGR))\n",
    "plt.imshow(color.astype(np.uint8))"
   ]
  },
  {
   "cell_type": "code",
   "execution_count": null,
   "id": "9cad802b-5a35-4fdf-9455-a707d76a9322",
   "metadata": {},
   "outputs": [],
   "source": []
  },
  {
   "cell_type": "code",
   "execution_count": null,
   "id": "cc8ea4d8-56bc-4e8c-bb4c-48652db5b142",
   "metadata": {},
   "outputs": [],
   "source": []
  }
 ],
 "metadata": {
  "kernelspec": {
   "display_name": "Python 3",
   "language": "python",
   "name": "python3"
  },
  "language_info": {
   "codemirror_mode": {
    "name": "ipython",
    "version": 3
   },
   "file_extension": ".py",
   "mimetype": "text/x-python",
   "name": "python",
   "nbconvert_exporter": "python",
   "pygments_lexer": "ipython3",
   "version": "3.7.12"
  }
 },
 "nbformat": 4,
 "nbformat_minor": 5
}

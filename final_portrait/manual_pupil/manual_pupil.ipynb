{
 "cells": [
  {
   "cell_type": "code",
   "execution_count": 39,
   "metadata": {},
   "outputs": [],
   "source": [
    "import cv2\n",
    "import numpy as np\n",
    "import matplotlib.pyplot as plt\n",
    "%matplotlib inline"
   ]
  },
  {
   "cell_type": "code",
   "execution_count": 40,
   "metadata": {},
   "outputs": [],
   "source": [
    "color_label = {\"left_iris\": [170, 240, 209],\n",
    "                     \"left_pupil\": [184, 61, 245],\n",
    "                     \"right_iris\": [245, 147, 49],\n",
    "                     \"right_pupil\": [250, 50, 83]}"
   ]
  },
  {
   "cell_type": "code",
   "execution_count": 41,
   "metadata": {},
   "outputs": [],
   "source": [
    "img = cv2.cvtColor(cv2.imread(\"datas/IMG_0350.jpg\"), cv2.COLOR_BGR2RGB)\n",
    "mask = cv2.cvtColor(cv2.imread(\"cvat_datas/SegmentationClass/IMG_0350.png\"), cv2.COLOR_BGR2RGB)"
   ]
  },
  {
   "cell_type": "code",
   "execution_count": 42,
   "metadata": {},
   "outputs": [
    {
     "name": "stdout",
     "output_type": "stream",
     "text": [
      "(3088, 2316, 3) (3088, 2316, 3)\n",
      "[  0  49  50  61  83 147 170 184 209 240 245 250]\n"
     ]
    },
    {
     "data": {
      "image/png": "[encoded data removed]",
      "text/plain": [
       "<Figure size 432x288 with 1 Axes>"
      ]
     },
     "metadata": {
      "needs_background": "light"
     },
     "output_type": "display_data"
    }
   ],
   "source": [
    "print(img.shape, mask.shape)\n",
    "plt.imshow(mask)\n",
    "print(np.unique(mask))"
   ]
  },
  {
   "cell_type": "code",
   "execution_count": 43,
   "metadata": {},
   "outputs": [],
   "source": [
    "H, W, _ = img.shape\n",
    "color_img = np.zeros((H, W, 3)).astype(np.uint8)"
   ]
  },
  {
   "cell_type": "code",
   "execution_count": 44,
   "metadata": {},
   "outputs": [],
   "source": [
    "for i in range(H):\n",
    "    for j in range(W):\n",
    "        if np.all(mask[i, j] == color_label[\"left_iris\"]) or np.all(mask[i, j] == color_label[\"right_iris\"]):\n",
    "            color_img[i, j, 0] = 0\n",
    "            color_img[i, j, 1] = 70\n",
    "            color_img[i, j, 2] = 255\n",
    "\n",
    "        elif np.all(mask[i, j] == color_label[\"left_pupil\"]) or np.all(mask[i, j] == color_label[\"right_pupil\"]):\n",
    "            color_img[i, j, 0] = 255\n",
    "            color_img[i, j, 1] = 255\n",
    "            color_img[i, j, 2] = 255"
   ]
  },
  {
   "cell_type": "code",
   "execution_count": 45,
   "metadata": {},
   "outputs": [
    {
     "data": {
      "text/plain": [
       "<matplotlib.image.AxesImage at 0x7ff4b7f77fd0>"
      ]
     },
     "execution_count": 45,
     "metadata": {},
     "output_type": "execute_result"
    },
    {
     "data": {
      "image/png": "[encoded data removed]",
      "text/plain": [
       "<Figure size 432x288 with 1 Axes>"
      ]
     },
     "metadata": {
      "needs_background": "light"
     },
     "output_type": "display_data"
    }
   ],
   "source": [
    "plt.imshow(color_img)"
   ]
  },
  {
   "cell_type": "code",
   "execution_count": null,
   "metadata": {},
   "outputs": [],
   "source": []
  }
 ],
 "metadata": {
  "kernelspec": {
   "display_name": "custom-env",
   "language": "python",
   "name": "custom-env"
  },
  "language_info": {
   "codemirror_mode": {
    "name": "ipython",
    "version": 3
   },
   "file_extension": ".py",
   "mimetype": "text/x-python",
   "name": "python",
   "nbconvert_exporter": "python",
   "pygments_lexer": "ipython3",
   "version": "3.7.6"
  }
 },
 "nbformat": 4,
 "nbformat_minor": 4
}

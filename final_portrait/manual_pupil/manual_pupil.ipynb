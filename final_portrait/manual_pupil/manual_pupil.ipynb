{
 "cells": [
  {
   "cell_type": "code",
   "execution_count": 46,
   "metadata": {},
   "outputs": [],
   "source": [
    "import cv2\n",
    "import numpy as np\n",
    "import matplotlib.pyplot as plt\n",
    "%matplotlib inline"
   ]
  },
  {
   "cell_type": "code",
   "execution_count": 47,
   "metadata": {},
   "outputs": [],
   "source": [
    "color_label = {\"left_iris\": [170, 240, 209],\n",
    "                     \"left_pupil\": [184, 61, 245],\n",
    "                     \"right_iris\": [245, 147, 49],\n",
    "                     \"right_pupil\": [250, 50, 83]}\n"
   ]
  },
  {
   "cell_type": "code",
   "execution_count": 48,
   "metadata": {},
   "outputs": [],
   "source": [
    "table = {'left_eye': 1,\n",
    "             'right_eye': 2,\n",
    "             'upper_lip': 3,\n",
    "             'lower_lip': 4,\n",
    "             'left_iris': 6,\n",
    "             'right_iris': 7}"
   ]
  },
  {
   "cell_type": "code",
   "execution_count": 49,
   "metadata": {},
   "outputs": [],
   "source": [
    "mask_iris_mouth_eye = cv2.imread(\"original_datas/mask_iris.png\", 0)\n",
    "img_resize = cv2.cvtColor(cv2.imread(\"original_datas/IMG_0350_resize.jpg\"), cv2.COLOR_BGR2RGB)\n",
    "H = 1024\n",
    "W = 1024\n",
    "color_img = np.zeros((H, W, 3)).astype(np.uint8)"
   ]
  },
  {
   "cell_type": "code",
   "execution_count": 50,
   "metadata": {},
   "outputs": [],
   "source": [
    "for i in range(H):\n",
    "    for j in range(W):\n",
    "        if mask_iris_mouth_eye[i, j] == table[\"left_eye\"] or mask_iris_mouth_eye[i, j] == table[\"right_eye\"]:\n",
    "            color_img[i, j, 0] = 255\n",
    "            color_img[i, j, 1] = 255\n",
    "            color_img[i, j, 2] = 255\n",
    "        elif mask_iris_mouth_eye[i, j] == table[\"upper_lip\"] or mask_iris_mouth_eye[i, j] == table[\"lower_lip\"]:\n",
    "            color_img[i, j, 0] = 255\n",
    "            color_img[i, j, 1] = 79\n",
    "            color_img[i, j, 2] = 140\n",
    "        elif mask_iris_mouth_eye[i, j] == table[\"left_iris\"] or mask_iris_mouth_eye[i, j] == table[\"right_iris\"]:\n",
    "            color_img[i, j, 0] = 0\n",
    "            color_img[i, j, 1] = 70\n",
    "            color_img[i, j, 2] = 255"
   ]
  },
  {
   "cell_type": "code",
   "execution_count": null,
   "metadata": {},
   "outputs": [],
   "source": []
  },
  {
   "cell_type": "code",
   "execution_count": 51,
   "metadata": {},
   "outputs": [],
   "source": [
    "#img = cv2.cvtColor(cv2.imread(\"original_datas/IMG_0350.jpg\"), cv2.COLOR_BGR2RGB)\n",
    "\n",
    "mask = cv2.cvtColor(cv2.imread(\"cvat_datas/SegmentationClass/IMG_0350.png\"), cv2.COLOR_BGR2RGB)\n",
    "mask = cv2.resize(mask, (1024, 1024))"
   ]
  },
  {
   "cell_type": "code",
   "execution_count": 52,
   "metadata": {
    "scrolled": true
   },
   "outputs": [
    {
     "name": "stdout",
     "output_type": "stream",
     "text": [
      "(3088, 2316, 3) (1024, 1024, 3)\n",
      "[  0   1   2   3   4   5   6   7   8   9  10  11  12  13  14  15  16  17\n",
      "  18  19  20  21  22  23  24  25  26  27  28  29  30  31  32  33  34  35\n",
      "  36  37  38  39  40  41  42  43  44  45  46  47  48  49  50  51  52  53\n",
      "  54  55  56  57  58  59  60  61  62  63  64  65  66  67  69  70  71  72\n",
      "  73  74  75  76  77  78  79  80  81  82  83  84  85  86  87  88  89  90\n",
      "  91  93  94  95  97  98  99 100 101 102 103 104 105 106 107 108 109 110\n",
      " 111 112 113 116 118 119 120 121 122 124 125 126 128 129 130 131 132 133\n",
      " 134 135 136 137 138 140 141 142 143 144 145 146 147 149 150 151 152 153\n",
      " 155 157 159 160 162 164 166 167 169 170 171 172 173 174 175 177 178 179\n",
      " 180 181 182 183 184 187 188 189 191 192 194 196 200 203 204 205 207 208\n",
      " 209 210 211 212 214 215 216 217 218 219 220 221 224 225 226 227 228 229\n",
      " 231 233 234 235 237 238 239 240 241 243 244 245 246 247 248 249 250]\n"
     ]
    },
    {
     "data": {
      "image/png": "[encoded data removed]",
      "text/plain": [
       "<Figure size 432x288 with 1 Axes>"
      ]
     },
     "metadata": {
      "needs_background": "light"
     },
     "output_type": "display_data"
    }
   ],
   "source": [
    "print(img.shape, mask.shape)\n",
    "plt.imshow(mask)\n",
    "print(np.unique(mask))"
   ]
  },
  {
   "cell_type": "code",
   "execution_count": null,
   "metadata": {},
   "outputs": [],
   "source": []
  },
  {
   "cell_type": "code",
   "execution_count": 53,
   "metadata": {},
   "outputs": [],
   "source": [
    "for i in range(H):\n",
    "    for j in range(W):\n",
    "        if np.all(mask[i, j] == color_label[\"left_pupil\"]) or np.all(mask[i, j] == color_label[\"right_pupil\"]):\n",
    "            color_img[i, j, 0] = 255\n",
    "            color_img[i, j, 1] = 255\n",
    "            color_img[i, j, 2] = 255"
   ]
  },
  {
   "cell_type": "code",
   "execution_count": 54,
   "metadata": {
    "scrolled": true
   },
   "outputs": [
    {
     "data": {
      "text/plain": [
       "<matplotlib.image.AxesImage at 0x7fd5f40e7ed0>"
      ]
     },
     "execution_count": 54,
     "metadata": {},
     "output_type": "execute_result"
    },
    {
     "data": {
      "image/png": "[encoded data removed]",
      "text/plain": [
       "<Figure size 432x288 with 1 Axes>"
      ]
     },
     "metadata": {
      "needs_background": "light"
     },
     "output_type": "display_data"
    }
   ],
   "source": [
    "plt.imshow(color_img)"
   ]
  },
  {
   "cell_type": "code",
   "execution_count": 57,
   "metadata": {},
   "outputs": [
    {
     "data": {
      "text/plain": [
       "True"
      ]
     },
     "execution_count": 57,
     "metadata": {},
     "output_type": "execute_result"
    }
   ],
   "source": [
    "cv2.imwrite(\"final_img.png\", cv2.cvtColor(color_img, cv2.COLOR_RGB2BGR))"
   ]
  },
  {
   "cell_type": "code",
   "execution_count": null,
   "metadata": {},
   "outputs": [],
   "source": []
  }
 ],
 "metadata": {
  "kernelspec": {
   "display_name": "custom-env",
   "language": "python",
   "name": "custom-env"
  },
  "language_info": {
   "codemirror_mode": {
    "name": "ipython",
    "version": 3
   },
   "file_extension": ".py",
   "mimetype": "text/x-python",
   "name": "python",
   "nbconvert_exporter": "python",
   "pygments_lexer": "ipython3",
   "version": "3.7.6"
  }
 },
 "nbformat": 4,
 "nbformat_minor": 4
}

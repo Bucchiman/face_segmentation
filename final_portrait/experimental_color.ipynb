{
 "cells": [
  {
   "cell_type": "code",
   "execution_count": 140,
   "id": "b6257d43-be2d-4dce-84e3-d5fef62d7469",
   "metadata": {},
   "outputs": [],
   "source": [
    "import numpy as np\n",
    "import matplotlib.pyplot as plt\n",
    "import cv2\n",
    "from models.model import BiSeNet\n",
    "from torchvision import transforms\n",
    "from PIL import Image\n",
    "import os\n",
    "import torch\n",
    "%matplotlib inline"
   ]
  },
  {
   "cell_type": "code",
   "execution_count": 141,
   "id": "24c4e2ff-14cc-473d-8b37-8c58e5d5f19a",
   "metadata": {},
   "outputs": [],
   "source": [
    "table = {'left_eye': 1,\n",
    "         'right_eye': 2,\n",
    "         'upper_lip': 3,\n",
    "         'lower_lip': 4,\n",
    "         'mouth': 5,\n",
    "         'left_iris': 6,\n",
    "         'right_iris': 7,\n",
    "         'left_pupil': 8,\n",
    "         'right_pupil': 9}"
   ]
  },
  {
   "cell_type": "code",
   "execution_count": 155,
   "id": "2adf089d-d34c-42fd-a167-395ff0732de6",
   "metadata": {},
   "outputs": [],
   "source": [
    "iris = np.array([[[0, 70, 255]]])\n",
    "lips = np.array([[[255, 79, 140]]])\n",
    "iris = np.array([[[0, 250, 154]]])\n",
    "mouth = np.array([[[0, 0, 0]]])\n",
    "try_color_01 = np.array([[[60, 179, 113]]])\n",
    "try_color_02 = np.array([[[0, 100, 0]]])\n",
    "background_01 = np.array([[[0, 0, 0]]])\n",
    "background_02 = np.array([[[255, 218, 185]]])\n",
    "background_03 = np.array([[[255, 160, 122]]])\n",
    "background_04 = np.array([[[255, 222, 173]]])\n",
    "background_05 = np.array([[[232, 131, 7]]])\n",
    "background_06 = np.array([[[232, 149, 7]]])"
   ]
  },
  {
   "cell_type": "code",
   "execution_count": 156,
   "id": "df8bc248-5e96-4505-be5e-0f26f62db70c",
   "metadata": {},
   "outputs": [],
   "source": [
    "def show_color(color_array):\n",
    "    plt.imshow(color_array)"
   ]
  },
  {
   "cell_type": "code",
   "execution_count": 157,
   "id": "5cdd10b4-3009-4060-81bb-4e83ea7d3b88",
   "metadata": {},
   "outputs": [
    {
     "data": {
      "image/png": "[encoded data removed]",
      "text/plain": [
       "<Figure size 432x288 with 1 Axes>"
      ]
     },
     "metadata": {
      "needs_background": "light"
     },
     "output_type": "display_data"
    }
   ],
   "source": [
    "show_color(background_05)"
   ]
  },
  {
   "cell_type": "code",
   "execution_count": 158,
   "id": "365aea51-fea4-4540-ac4d-08b259b60632",
   "metadata": {},
   "outputs": [],
   "source": [
    "def get_parsing(device, n_classes, image_path, net):\n",
    "    net.eval()\n",
    "\n",
    "    to_tensor = transforms.Compose([transforms.ToTensor(),\n",
    "                                    transforms.Normalize((0.485, 0.456, 0.406),\n",
    "                                                         (0.229, 0.224, 0.225))])\n",
    "\n",
    "    with torch.no_grad():\n",
    "        img = Image.open(image_path)\n",
    "        image = img.resize((1024, 1024), Image.BILINEAR)\n",
    "        img = to_tensor(image)\n",
    "        img = torch.unsqueeze(img, 0)\n",
    "        img = img.to(device)\n",
    "        out = net(img)[0]\n",
    "        parsing = out.squeeze(0).cpu().numpy().argmax(0)\n",
    "        return parsing.astype(np.uint8)\n"
   ]
  },
  {
   "cell_type": "code",
   "execution_count": 159,
   "id": "e5bc00bc-2e04-4441-b61f-e33d954fcbdf",
   "metadata": {},
   "outputs": [],
   "source": [
    "def parsing2color(iris, lips, background):\n",
    "    net = BiSeNet(n_classes=10)\n",
    "    net.load_state_dict(torch.load(\"../outputs/2022_01_11_15_42_40/final.pth\", map_location=\"cpu\"))\n",
    "    img_name = \"../datas/one_IMG_0392_imgs_rate_30/one_IMG_0392_rate_30_00081.png\"\n",
    "    parsing = get_parsing(\"cpu\", 10, img_name, net)\n",
    "#    final_img = np.zeros((1024, 1024, 3))\n",
    "    final_img = np.zeros((1024, 1024, 3))\n",
    "    final_img[..., :] = background\n",
    "    for h in range(1024):\n",
    "        for w in range(1024):\n",
    "            if parsing[h, w] == table[\"left_eye\"] or parsing[h, w] == table[\"right_eye\"]:\n",
    "                final_img[h, w, :] = 255\n",
    "            elif parsing[h, w] == table[\"upper_lip\"] or parsing[h, w] == table[\"lower_lip\"]:\n",
    "                final_img[h, w, 0] = lips[0, 0, 0]\n",
    "                final_img[h, w, 1] = lips[0, 0, 1]\n",
    "                final_img[h, w, 2] = lips[0, 0, 2]\n",
    "            elif parsing[h, w] == table[\"left_iris\"] or parsing[h, w] == table[\"right_iris\"]:\n",
    "                final_img[h, w, 0] = iris[0, 0, 0]\n",
    "                final_img[h, w, 1] = iris[0, 0, 1]\n",
    "                final_img[h, w, 2] = iris[0, 0, 2]\n",
    "            elif parsing[h, w] == table[\"left_pupil\"] or parsing[h, w] == table[\"right_pupil\"]:\n",
    "                final_img[h, w, :] = 255\n",
    "            elif parsing[h, w] == table[\"mouth\"]:\n",
    "                final_img[h, w, :] = 0\n",
    "            else:\n",
    "                pass\n",
    "\n",
    "#    plt.imshow(cv2.cvtColor(final_img.astype(np.uint8), cv2.COLOR_RGB2BGR))\n",
    "    plt.imshow(final_img.astype(np.uint8))"
   ]
  },
  {
   "cell_type": "code",
   "execution_count": null,
   "id": "a2d58610-5317-497d-a4e5-e4c00eebc10b",
   "metadata": {},
   "outputs": [],
   "source": [
    "parsing2color(mouth, lips, background_06)"
   ]
  },
  {
   "cell_type": "code",
   "execution_count": null,
   "id": "11585302-29b6-48d0-83f8-fadebe077454",
   "metadata": {},
   "outputs": [],
   "source": []
  },
  {
   "cell_type": "code",
   "execution_count": null,
   "id": "6d88a8e1-4267-45ad-81aa-b1eed4506259",
   "metadata": {},
   "outputs": [],
   "source": []
  }
 ],
 "metadata": {
  "kernelspec": {
   "display_name": "Python 3",
   "language": "python",
   "name": "python3"
  },
  "language_info": {
   "codemirror_mode": {
    "name": "ipython",
    "version": 3
   },
   "file_extension": ".py",
   "mimetype": "text/x-python",
   "name": "python",
   "nbconvert_exporter": "python",
   "pygments_lexer": "ipython3",
   "version": "3.7.12"
  }
 },
 "nbformat": 4,
 "nbformat_minor": 5
}
